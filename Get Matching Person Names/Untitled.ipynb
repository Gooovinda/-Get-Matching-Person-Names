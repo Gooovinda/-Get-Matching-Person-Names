{
 "cells": [
  {
   "cell_type": "code",
   "execution_count": 1,
   "id": "06a40498",
   "metadata": {},
   "outputs": [
    {
     "name": "stdout",
     "output_type": "stream",
     "text": [
      "Collecting fuzzywuzzy\n",
      "  Downloading fuzzywuzzy-0.18.0-py2.py3-none-any.whl (18 kB)\n",
      "Collecting python-Levenshtein\n",
      "  Downloading python_levenshtein-0.27.1-py3-none-any.whl (9.4 kB)\n",
      "Collecting Levenshtein==0.27.1\n",
      "  Downloading levenshtein-0.27.1-cp310-cp310-win_amd64.whl (99 kB)\n",
      "     -------------------------------------- 99.9/99.9 kB 112.5 kB/s eta 0:00:00\n",
      "Collecting rapidfuzz<4.0.0,>=3.9.0\n",
      "  Downloading rapidfuzz-3.14.1-cp310-cp310-win_amd64.whl (1.5 MB)\n",
      "     ---------------------------------------- 1.5/1.5 MB 184.3 kB/s eta 0:00:00\n",
      "Installing collected packages: fuzzywuzzy, rapidfuzz, Levenshtein, python-Levenshtein\n",
      "Successfully installed Levenshtein-0.27.1 fuzzywuzzy-0.18.0 python-Levenshtein-0.27.1 rapidfuzz-3.14.1\n"
     ]
    }
   ],
   "source": [
    "!pip install fuzzywuzzy python-Levenshtein\n"
   ]
  },
  {
   "cell_type": "code",
   "execution_count": 2,
   "id": "8c143d79",
   "metadata": {},
   "outputs": [],
   "source": [
    "names = [\n",
    "    \"Geetha\", \"Gita\", \"Gitu\", \"Geeta\", \"Githa\", \"Gitika\", \"Gitali\", \n",
    "    \"Sita\", \"Seeta\", \"Sitha\", \"Sheetal\", \"Sunita\", \"Supriya\", \n",
    "    \"Pooja\", \"Priya\", \"Preeti\", \"Pari\", \"Poonam\", \"Pavitra\",\n",
    "    \"Anita\", \"Anitha\", \"Anitaaa\", \"Anitha Devi\", \"Anjali\", \n",
    "    \"Asha\", \"Ashwini\", \"Asmita\", \"Arti\", \"Archana\", \"Aruna\"\n",
    "]\n"
   ]
  },
  {
   "cell_type": "code",
   "execution_count": 3,
   "id": "aaf9f72c",
   "metadata": {},
   "outputs": [],
   "source": [
    "from fuzzywuzzy import process\n",
    "\n",
    "def find_best_matches(user_input, name_list, top_n=5):\n",
    "    # Get top N matches\n",
    "    matches = process.extract(user_input, name_list, limit=top_n)\n",
    "    \n",
    "    best_match = matches[0]  # (name, score)\n",
    "    return best_match, matches\n"
   ]
  },
  {
   "cell_type": "code",
   "execution_count": null,
   "id": "4270e565",
   "metadata": {},
   "outputs": [],
   "source": [
    "# Example: user enters a name\n",
    "user_name = input(\"Enter a name: \")\n",
    "\n",
    "best_match, ranked_matches = find_best_matches(user_name, names)\n",
    "\n",
    "print(\"\\n✅ Best Match:\")\n",
    "print(f\"{best_match[0]} (Score: {best_match[1]})\")\n",
    "\n",
    "print(\"\\n📌 Ranked List of Matches:\")\n",
    "for name, score in ranked_matches:\n",
    "    print(f\"{name} - {score}\")\n"
   ]
  },
  {
   "cell_type": "code",
   "execution_count": null,
   "id": "c3848465",
   "metadata": {},
   "outputs": [],
   "source": []
  }
 ],
 "metadata": {
  "kernelspec": {
   "display_name": "Python 3 (ipykernel)",
   "language": "python",
   "name": "python3"
  },
  "language_info": {
   "codemirror_mode": {
    "name": "ipython",
    "version": 3
   },
   "file_extension": ".py",
   "mimetype": "text/x-python",
   "name": "python",
   "nbconvert_exporter": "python",
   "pygments_lexer": "ipython3",
   "version": "3.10.9"
  }
 },
 "nbformat": 4,
 "nbformat_minor": 5
}
